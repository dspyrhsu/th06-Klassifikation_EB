{
 "cells": [
  {
   "cell_type": "markdown",
   "metadata": {},
   "source": [
    "#### 1. Lesen Sie aus dem Unterordner /data die Titanic-Trainingsdaten in ein DataFrame ein\n",
    "> Hinweis: Eine Beschreibung der Daten finden Sie bei [Kaggle](https://www.kaggle.com/c/titanic/data)"
   ]
  },
  {
   "cell_type": "code",
   "execution_count": null,
   "metadata": {},
   "outputs": [],
   "source": []
  },
  {
   "cell_type": "markdown",
   "metadata": {},
   "source": [
    "#### 2. Behalten Sie nur die relevanten Attribute und die Zeilen ohne fehlende Werte\n",
    "> Hinweise:<br>\n",
    "> a. Eine Kopie der relevanten Spalten erhält man mittels `df_a = df.loc[:,['r1','r2',...,'rn']]`<br>\n",
    "> b. Nicht relevant sind die Spalten `Name`, `Ticket` und `Cabin` (für uns ...)<br>\n",
    "> c. Für DataFrames existiert die Methode `dropna`"
   ]
  },
  {
   "cell_type": "code",
   "execution_count": null,
   "metadata": {},
   "outputs": [],
   "source": []
  },
  {
   "cell_type": "markdown",
   "metadata": {},
   "source": [
    "#### 3. Kodieren Sie die beiden kategorialen Spalten um\n",
    "> Hinweis: Will man die Werte einer Spalte in einem Dataframe überschreiben, so tut man das auch mittels `df.loc[:,['sp']] = ...`"
   ]
  },
  {
   "cell_type": "code",
   "execution_count": null,
   "metadata": {},
   "outputs": [],
   "source": []
  },
  {
   "cell_type": "markdown",
   "metadata": {},
   "source": [
    "#### 4. Trainieren Sie einen Entscheidungsbaum mit dem Gini-Index bis zu einer maximalen Tiefe von 3 zur Vorhersage, ob eine Person überlebt hat oder nicht"
   ]
  },
  {
   "cell_type": "code",
   "execution_count": null,
   "metadata": {},
   "outputs": [],
   "source": []
  },
  {
   "cell_type": "markdown",
   "metadata": {},
   "source": [
    "#### 5. Interpretieren Sie das Ergebnis (zumindest teilweise). Welche Personen hatten die besten Überlebenschancen?"
   ]
  },
  {
   "cell_type": "code",
   "execution_count": null,
   "metadata": {},
   "outputs": [],
   "source": []
  }
 ],
 "metadata": {
  "kernelspec": {
   "display_name": "Python 3",
   "language": "python",
   "name": "python3"
  },
  "language_info": {
   "codemirror_mode": {
    "name": "ipython",
    "version": 3
   },
   "file_extension": ".py",
   "mimetype": "text/x-python",
   "name": "python",
   "nbconvert_exporter": "python",
   "pygments_lexer": "ipython3",
   "version": "3.6.5"
  }
 },
 "nbformat": 4,
 "nbformat_minor": 2
}
